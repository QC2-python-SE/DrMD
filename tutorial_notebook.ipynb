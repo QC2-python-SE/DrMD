{
 "cells": [
  {
   "cell_type": "markdown",
   "metadata": {},
   "source": [
    "<div  style=\"background-color:#66439A; text-align: center; font-family: 'Courier New', sans-serif;\" class=\"header\">\n",
    "<div class=\"header\">\n",
    "  <br>\n",
    "  <h1> <b>Tutorial </b></h1>\n",
    "  <p>A step-by-step guidance to DrMD package.</p>\n",
    "  <br>\n",
    "</div>\n"
   ]
  },
  {
   "cell_type": "markdown",
   "metadata": {},
   "source": [
    "<div  style=\"color:#66439A; font-family: 'Courier New', sans-serif;\">\n",
    "<h3>Introduction</h3>"
   ]
  },
  {
   "cell_type": "markdown",
   "metadata": {},
   "source": [
    "Welcome to DrMD package! This user-friendly package is the perfect first step for anyone interested in Quantum Computing. Working with 2-qubit systems exclusively, this package ensures simplicity for beginners. Let's get started!"
   ]
  },
  {
   "cell_type": "code",
   "execution_count": null,
   "metadata": {},
   "outputs": [],
   "source": [
    "from qubit_state import QubitState\n",
    "from unitary_gate import UnitaryGate\n",
    "import gate_list as gl\n",
    "from circuit import Circuit\n",
    "import numpy as np"
   ]
  },
  {
   "cell_type": "markdown",
   "metadata": {},
   "source": [
    "<div  style=\"color:#66439A; font-family: 'Courier New', sans-serif;\">\n",
    "<br>\n",
    "<h2> <b>Qubit States</b>  </h2> \n",
    "<br>\n",
    "</div>"
   ]
  },
  {
   "cell_type": "markdown",
   "metadata": {},
   "source": [
    "We can create a new qubit state using the matrix representation with <code>QubitState()</code>. Let the first qubit be in the $|0\\rangle$ state while the second qubit in the $|1\\rangle$ - this corresponds to the matrix $[0, 1, 0, 0]$. Otherwise, we can also create this qubit by inputing two single-qubit matrices $[1,0], [0,1]$."
   ]
  },
  {
   "cell_type": "code",
   "execution_count": 103,
   "metadata": {},
   "outputs": [],
   "source": [
    "qb1 = QubitState([0, 1, 0, 0])\n",
    "qb2 = QubitState([1, 0], (0, 1))"
   ]
  },
  {
   "cell_type": "markdown",
   "metadata": {},
   "source": [
    "Using the <code>peek()</code> function, we can check that these two states are the same."
   ]
  },
  {
   "cell_type": "code",
   "execution_count": 120,
   "metadata": {},
   "outputs": [
    {
     "name": "stdout",
     "output_type": "stream",
     "text": [
      "This is the first state:  [0 1 0 0]\n",
      "This is the second state:  [0 1 0 0]\n"
     ]
    }
   ],
   "source": [
    "print(\"This is the first state: \", qb1.peek())\n",
    "print(\"This is the second state: \", qb2.peek())"
   ]
  },
  {
   "cell_type": "markdown",
   "metadata": {},
   "source": [
    "Normalisation is an essential thing in Quantum Mechanics! However, this package is very user-friendly, so this is not required when inputting an array to create a qubit - the function will do it for you."
   ]
  },
  {
   "cell_type": "code",
   "execution_count": 121,
   "metadata": {},
   "outputs": [
    {
     "name": "stdout",
     "output_type": "stream",
     "text": [
      "The state is normalised:  [0.5 0.5 0.5 0.5]\n"
     ]
    }
   ],
   "source": [
    "qb = QubitState([1, 1, 1, 1])\n",
    "print(\"The state is normalised: \", qb)"
   ]
  },
  {
   "cell_type": "markdown",
   "metadata": {},
   "source": [
    "<!-- <div  style=\"color:#FFC145; font-family: 'Courier New', sans-serif;\"> -->\n",
    "<div  style=\"color:#66439A; font-family: 'Courier New', sans-serif;\">\n",
    "<h3>Measure a Qubit State</h3>"
   ]
  },
  {
   "cell_type": "markdown",
   "metadata": {},
   "source": [
    " With a qubit in hand (?), the simplest thing one can do is to measure it. With <code>DrMD</code>, there are two ways of measuring a qubit. Note that the measurement is done in the computational basis (Z-basis).\n",
    " 1. Using <code>measure_collapse()</code> function which mimics the collapse of the state upon being measured. This returns an eigenstate. \n",
    " 2. Using <code>measure_stats()</code> function which does not collapse the state. Instead, this function will return the probability with which the initial state collapses to a certain eigenstate."
   ]
  },
  {
   "cell_type": "markdown",
   "metadata": {},
   "source": [
    "For example, let initialise our qubits in the state $|\\psi_0\\rangle = \\frac{1}{2}(|00\\rangle + |10\\rangle + |01\\rangle + |11\\rangle)$."
   ]
  },
  {
   "cell_type": "markdown",
   "metadata": {},
   "source": [
    "We see that <code>measure_collapse()</code> collapes the state $|\\psi_0\\rangle$ into the state $|00\\rangle$ (or $|10\\rangle, |01\\rangle, |11\\rangle$) with a 25% probability.\n"
   ]
  },
  {
   "cell_type": "code",
   "execution_count": 122,
   "metadata": {},
   "outputs": [
    {
     "name": "stdout",
     "output_type": "stream",
     "text": [
      "The initial state is:  [0.5 0.5 0.5 0.5]\n",
      "The collapsed state is:  [1 0 0 0]\n"
     ]
    }
   ],
   "source": [
    "qb = QubitState([1, 1, 1, 1])\n",
    "print(\"The initial state is: \", qb.peek())\n",
    "qb.measureCollapse()\n",
    "print(\"The collapsed state is: \", qb.peek())"
   ]
  },
  {
   "cell_type": "markdown",
   "metadata": {},
   "source": [
    "Moreover, we can use <code>to_measure</code> parameter to specify the qubit on which we are doing partial measurement. For example, in this case, we are doing partial measurement on the first qubit. We see that the function returns the state $|0 0 1 1\\rangle$ (or $|1 1 0 0\\rangle$) 50% of the time."
   ]
  },
  {
   "cell_type": "code",
   "execution_count": 125,
   "metadata": {},
   "outputs": [
    {
     "name": "stdout",
     "output_type": "stream",
     "text": [
      "The initial state is:  [0.5 0.5 0.5 0.5]\n",
      "The collapsed state (when measuring the 1st qubit) is:  [0.70710678 0.70710678 0.         0.        ]\n"
     ]
    }
   ],
   "source": [
    "qb = QubitState([1, 1, 1, 1])\n",
    "print(\"The initial state is: \", qb.peek())\n",
    "qb.measureCollapse(to_measure=1)\n",
    "print(\"The collapsed state (when measuring the 1st qubit) is: \", qb.peek())"
   ]
  },
  {
   "cell_type": "markdown",
   "metadata": {},
   "source": [
    "We see that <code>measure_stats()</code> returns an array indicating which state and with what probability our initial $|\\psi_0\\rangle$ would collapse to, without actually collapsing it."
   ]
  },
  {
   "cell_type": "code",
   "execution_count": null,
   "metadata": {},
   "outputs": [
    {
     "name": "stdout",
     "output_type": "stream",
     "text": [
      "The initial statistics is: \n",
      " [([1 0 0 0], 0.25), ([0 1 0 0], 0.25), ([0 0 1 0], 0.25), ([0 0 0 1], 0.25)]\n",
      "The measurement statistics (when measuring the 1st qubit) is: \n",
      "  [([0.7071 0.7071 0.     0.    ], 0.5), ([0.     0.     0.7071 0.7071], 0.5)]\n"
     ]
    }
   ],
   "source": [
    "qb = QubitState([1, 1, 1, 1])\n",
    "print(\"The initial statistics is: \\n\", qb.measureStats())\n",
    "print(\n",
    "    \"The measurement statistics (when measuring the 1st qubit) is: \\n \",\n",
    "    qb.measureStats(to_measure=1),\n",
    ")"
   ]
  },
  {
   "cell_type": "markdown",
   "metadata": {},
   "source": [
    "<div  style=\"color:#66439A; font-family: 'Courier New', sans-serif;\">\n",
    "<h2><b> Unitary Gates </b></h2>"
   ]
  },
  {
   "cell_type": "markdown",
   "metadata": {},
   "source": [
    "What better fun can one have with qubits than applying unitary gates to them? Nothing! That's why package <code>DrMD</code> is here to provide you nerds with the greatest fun of your life with UnitaryGate class."
   ]
  },
  {
   "cell_type": "markdown",
   "metadata": {},
   "source": [
    "One can create new unitary gates using their matrix representation, with a 4 x 4 matrix or with two 2 x 2 matrices, each denoting a gate on a qubit. Let's try to create a $X_1Z_2$ gate and see its action on the state $|00\\rangle$."
   ]
  },
  {
   "cell_type": "code",
   "execution_count": null,
   "metadata": {},
   "outputs": [],
   "source": [
    "x1z2 = UnitaryGate([[0, 1], [1, 0]], [[1, 0], [0, -1]])"
   ]
  },
  {
   "cell_type": "code",
   "execution_count": 130,
   "metadata": {},
   "outputs": [
    {
     "name": "stdout",
     "output_type": "stream",
     "text": [
      "Apply X1Z2 on the |00> state:  [0 0 1 0]\n"
     ]
    }
   ],
   "source": [
    "# Define state |00>\n",
    "qb00 = QubitState([1, 0, 0, 0])\n",
    "qb = x1z2.apply(qb00)\n",
    "print(\"Apply X1Z2 on the |00> state: \", qb)"
   ]
  },
  {
   "cell_type": "markdown",
   "metadata": {},
   "source": [
    "If one is too lazy, one can also use our predefined list of Pauli gates. For example, to create $X_1Z_2$ gate, we can do as follows."
   ]
  },
  {
   "cell_type": "code",
   "execution_count": 133,
   "metadata": {},
   "outputs": [
    {
     "name": "stdout",
     "output_type": "stream",
     "text": [
      "Are the two Unitary Gates the same?  True\n"
     ]
    }
   ],
   "source": [
    "mat = UnitaryGate(gl.X_mat, gl.Z_mat)\n",
    "print(\"Are the two Unitary Gates the same? \", x1z2.compare(mat))"
   ]
  },
  {
   "cell_type": "markdown",
   "metadata": {},
   "source": [
    "Apply a wrong gate and want to ctrl-z? Fret not! Use <code>dagger()</code> to apply the inverse gate."
   ]
  },
  {
   "cell_type": "code",
   "execution_count": 116,
   "metadata": {},
   "outputs": [
    {
     "data": {
      "text/plain": [
       "[1 0 0 0]"
      ]
     },
     "execution_count": 116,
     "metadata": {},
     "output_type": "execute_result"
    }
   ],
   "source": [
    "x1z2.dagger().apply(qb)"
   ]
  },
  {
   "cell_type": "markdown",
   "metadata": {},
   "source": [
    "We see that we get back the initial state $|00\\rangle$."
   ]
  },
  {
   "cell_type": "markdown",
   "metadata": {},
   "source": [
    "<div  style=\"color:#66439A; font-family: 'Courier New', sans-serif;\">\n",
    "<br>\n",
    "<h2><b>Circuits</b></h2>\n",
    "<br>\n",
    "</div>"
   ]
  },
  {
   "cell_type": "markdown",
   "metadata": {},
   "source": [
    "Let's take a step further! A curious mind may ask: \"What happens if one has many gates?\" The answer is what we are looking at in this section - a circuit!"
   ]
  },
  {
   "cell_type": "code",
   "execution_count": null,
   "metadata": {},
   "outputs": [],
   "source": [
    "c = Circuit([x1z2, gl.hadamard1])"
   ]
  },
  {
   "cell_type": "markdown",
   "metadata": {},
   "source": [
    "Let's see what this circuit does to our old friend $|00\\rangle$."
   ]
  },
  {
   "cell_type": "code",
   "execution_count": 139,
   "metadata": {},
   "outputs": [
    {
     "name": "stdout",
     "output_type": "stream",
     "text": [
      "Apply the circuit, the final state is  [ 0.7071  0.     -0.7071  0.    ]\n"
     ]
    }
   ],
   "source": [
    "print(\"Apply the circuit, the final state is \", c.apply(qb00))"
   ]
  },
  {
   "cell_type": "markdown",
   "metadata": {},
   "source": [
    "It returns $\\frac{1}{\\sqrt{2}}(|00\\rangle - |10\\rangle)$, as expected. There are many other things we can do to an existing circuit. We can <code>append</code> to add or <code>pop</code> to remove the last element, and many more. Let's try them out by preparing an entangled state. We can start from $|00\\rangle$ and edit our current circuit."
   ]
  },
  {
   "cell_type": "code",
   "execution_count": null,
   "metadata": {},
   "outputs": [
    {
     "name": "stdout",
     "output_type": "stream",
     "text": [
      "The number of gates in the circuit is:  6\n",
      "The gates applied are: \n",
      "[[ 0  0  1  0]\n",
      " [ 0  0  0 -1]\n",
      " [ 1  0  0  0]\n",
      " [ 0 -1  0  0]], \n",
      "[[0.+0.j 0.-1.j 0.+0.j 0.-0.j]\n",
      " [0.+1.j 0.+0.j 0.+0.j 0.+0.j]\n",
      " [0.+0.j 0.-0.j 0.+0.j 0.-1.j]\n",
      " [0.+0.j 0.+0.j 0.+1.j 0.+0.j]], \n",
      "[[ 0.70710678  0.          0.70710678  0.        ]\n",
      " [ 0.          0.70710678  0.          0.70710678]\n",
      " [ 0.70710678  0.         -0.70710678 -0.        ]\n",
      " [ 0.          0.70710678 -0.         -0.70710678]], \n",
      "[[1 0 0 0]\n",
      " [0 1 0 0]\n",
      " [0 0 0 1]\n",
      " [0 0 1 0]], \n",
      "[[ 0.70710678  0.          0.70710678  0.        ]\n",
      " [ 0.          0.70710678  0.          0.70710678]\n",
      " [ 0.70710678  0.         -0.70710678 -0.        ]\n",
      " [ 0.          0.70710678 -0.         -0.70710678]], \n",
      "[[0 1 0 0]\n",
      " [1 0 0 0]\n",
      " [0 0 0 1]\n",
      " [0 0 1 0]].\n",
      "\n"
     ]
    }
   ],
   "source": [
    "c = Circuit([x1z2, gl.hadamard1])\n",
    "c.insert(1, gl.y2)\n",
    "c.append(gl.cnot)\n",
    "c_extra = Circuit([gl.hadamard1, gl.x2, gl.hadamard2])\n",
    "c.merge(c_extra)\n",
    "c.pop()\n",
    "c.isEmpty()\n",
    "print(\"The number of gates in the circuit is: \", c.size())\n",
    "print(str(c))"
   ]
  },
  {
   "cell_type": "markdown",
   "metadata": {},
   "source": [
    "To wrap this up, let's take a look at an ubiquitous circuit in Quantum Computing.\n"
   ]
  },
  {
   "cell_type": "markdown",
   "metadata": {},
   "source": [
    "<div  style=\"color:#FFC145; text-align: center; font-family: 'Courier New', sans-serif;\">\n",
    "<!-- <div  style=\"color:#66439A; font-family: 'Courier New', sans-serif;\"> -->\n",
    "<h3><i>Phase kick-back</i></h3>"
   ]
  },
  {
   "cell_type": "markdown",
   "metadata": {},
   "source": [
    "Also sometimes known as the <i>Hadamard test</i>, the circuit consists of a controlled-unitary sandwiched between two Hadamard gates. In this specific circuit shown below, <i>phase kick-back</i> is a way to introduce a phase in the first qubit. However, there are many cases where this is used to do measurement read-out on an ancilla qubit in order to find an expectation value of a particular observable. \n",
    "\n",
    "This is a great time to both show the method as well as for our users here to familiarise ourselves with this package!"
   ]
  },
  {
   "cell_type": "markdown",
   "metadata": {},
   "source": [
    "![Cute Cat](phase.png)\n"
   ]
  },
  {
   "cell_type": "markdown",
   "metadata": {},
   "source": [
    "The schemaic diagram above (taken from online notes by Professor Artur Ekert (https://qubit.guide/qubit_guide.pdf), U here represents the phase gate) shows the circuit to implement <i>phase kick-back</i>. Taking the intial state to be $|01\\rangle$, we have\n",
    "\n",
    "\\begin{align*}\n",
    "    |00\\rangle &\\xrightarrow{X_2} |11\\rangle \\\\\n",
    "    &\\xrightarrow{H_1} \\frac{1}{\\sqrt{2}}(|01\\rangle + |11\\rangle) \\\\\n",
    "    &\\xrightarrow{C-U} \\frac{1}{\\sqrt{2}}(|01\\rangle + e^{i\\varphi}|11\\rangle) \\\\\n",
    "    &\\xrightarrow{H_1} \\frac{e^{i\\frac{\\varphi}{2}}}{2}(\\cos{\\frac{\\varphi}{2}}|0\\rangle - i\\sin{\\frac{\\varphi}{2}}|1\\rangle)|1\\rangle \\\\\n",
    "\\end{align*}\n",
    "Measuring the 2nd qubit (i.e. the ancilla), we have introduced a phase in the first qubit. We see that \n",
    "$$\\mathbb{P}(|01\\rangle) = \\cos^2{\\frac{\\varphi}{2}}$$\n",
    "$$\\mathbb{P}(|11\\rangle) = \\sin^2{\\frac{\\varphi}{2}}$$"
   ]
  },
  {
   "cell_type": "markdown",
   "metadata": {},
   "source": [
    "Taking $\\varphi = \\frac{\\pi}{3}$, we will test this circuit with this package."
   ]
  },
  {
   "cell_type": "code",
   "execution_count": 229,
   "metadata": {},
   "outputs": [
    {
     "name": "stdout",
     "output_type": "stream",
     "text": [
      "This is the initial state:  [1 0 0 0]\n",
      "[([0 1 0 0], (0.75-0j)), ([0 0 0 1], (0.25+0j))]\n"
     ]
    },
    {
     "name": "stderr",
     "output_type": "stream",
     "text": [
      "c:\\Users\\Pham Nguyet Chi Mai\\Desktop\\UCL\\SE_project\\DrMD\\qubit_state.py:271: ComplexWarning: Casting complex values to real discards the imaginary part\n",
      "  self.__qb_matrix = np.random.choice(states, p=probs).peek()\n"
     ]
    }
   ],
   "source": [
    "# Define the controlled-phase gate\n",
    "phi = np.pi / 3\n",
    "phase = np.matrix([[1, 0], [0, np.exp(1j * phi)]])\n",
    "cphase = (\n",
    "    1 / 2\n",
    "    * (np.kron((gl.I_mat + gl.Z_mat), gl.I_mat) + np.kron((gl.I_mat - gl.Z_mat), phase))\n",
    ")\n",
    "cphase_gate = UnitaryGate(cphase)\n",
    "\n",
    "# Phase kickback circuit\n",
    "circ = Circuit([gl.x2, gl.hadamard1, cphase_gate, gl.hadamard1])\n",
    "qb00 = QubitState([1, 0, 0, 0])\n",
    "\n",
    "# Measure the state in the 2nd qubit (i.e. the ancilla) to \"kickback\" the phase to the 1st qubit\n",
    "qb = circ.apply(qb00).measureCollapse(to_measure=2)\n",
    "print(\"This is the initial state: \", qb00.peek())\n",
    "print(qb.measureStats())"
   ]
  },
  {
   "cell_type": "markdown",
   "metadata": {},
   "source": [
    "Using <code>measure_stats()</code>, we see that the probability is what we expect."
   ]
  },
  {
   "cell_type": "markdown",
   "metadata": {},
   "source": [
    "<div  style=\"color:#FFC145; text-align: center; font-family: 'Courier New', sans-serif;\">\n",
    "<!-- <div  style=\"color:#66439A; font-family: 'Courier New', sans-serif;\"> -->\n",
    "<h3><i>The end.</i></h3>"
   ]
  }
 ],
 "metadata": {
  "kernelspec": {
   "display_name": "qp",
   "language": "python",
   "name": "python3"
  },
  "language_info": {
   "codemirror_mode": {
    "name": "ipython",
    "version": 3
   },
   "file_extension": ".py",
   "mimetype": "text/x-python",
   "name": "python",
   "nbconvert_exporter": "python",
   "pygments_lexer": "ipython3",
   "version": "3.10.15"
  }
 },
 "nbformat": 4,
 "nbformat_minor": 2
}
