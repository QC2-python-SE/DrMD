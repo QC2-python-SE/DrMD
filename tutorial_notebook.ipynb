{
 "cells": [
  {
   "cell_type": "markdown",
   "metadata": {},
   "source": [
    "<!-- <div  style=\"background-color:#FA8072\" class=\"header\"> -->\n",
    "<div class=\"header\">\n",
    "  <h1>Tutorial</h1>\n",
    "  <p>A step-by-step guidance to DrMD package.</p>\n",
    "</div>\n"
   ]
  },
  {
   "cell_type": "markdown",
   "metadata": {},
   "source": [
    "We first need to import relevant classes.\n",
    "\n",
    "The circuit in this backacge is a 2-qubit circuit. "
   ]
  },
  {
   "cell_type": "code",
   "execution_count": 86,
   "metadata": {},
   "outputs": [],
   "source": [
    "from qubit_state import QubitState\n",
    "from unitary_gate import UnitaryGate as ug\n",
    "import gate_list as gl\n",
    "from circuit import Circuit as circ\n",
    "# import numpy as np\n",
    "# import matplotlib.pyplot as plt"
   ]
  },
  {
   "cell_type": "markdown",
   "metadata": {},
   "source": [
    "<h2> Qubit States </h2>"
   ]
  },
  {
   "cell_type": "markdown",
   "metadata": {},
   "source": [
    "We can create a new qubit state using the matrix representation with <code>QubitState()</code>. Let the first qubit be in the $|0\\rangle$ state while the second qubit in the $|1\\rangle$ - this corresponds to the matrix $[0, 1, 0, 0]$. Otherwise, we can also create this qubit by inputing two single-qubit matrices $[1,0], [0,1]$."
   ]
  },
  {
   "cell_type": "code",
   "execution_count": 3,
   "metadata": {},
   "outputs": [],
   "source": [
    "qb1 = QubitState([0,1,0,0])\n",
    "qb2 = QubitState([1,0], (0,1))"
   ]
  },
  {
   "cell_type": "markdown",
   "metadata": {},
   "source": [
    "Using the <code>peek()</code> function, we can check that these two states are the same."
   ]
  },
  {
   "cell_type": "code",
   "execution_count": 4,
   "metadata": {},
   "outputs": [
    {
     "name": "stdout",
     "output_type": "stream",
     "text": [
      "[0 1 0 0]\n",
      "[0 1 0 0]\n"
     ]
    }
   ],
   "source": [
    "print(qb1.peek())\n",
    "print(qb2.peek())"
   ]
  },
  {
   "cell_type": "markdown",
   "metadata": {},
   "source": [
    "<h3>Measure a Qubit State</h3>"
   ]
  },
  {
   "cell_type": "markdown",
   "metadata": {},
   "source": [
    " With a qubit in hand (?), the simplest thing one can do is to measure it. With <code>DrMD</code>, there are two ways of measuring a qubit.\n",
    " 1. Using <code>measureCollapse()</code> function which mimics the collapse of the state upon being measured. This returns an eigenstate.\n",
    " 2. Using <code>measureStats()</code> function which does not collapse the state. Instead, this function will return the probability with which the initial state collapses to a certain eigenstate."
   ]
  },
  {
   "cell_type": "markdown",
   "metadata": {},
   "source": [
    "For example, let initialise our qubits in the state $|\\psi_0\\rangle = \\frac{1}{2}(|00\\rangle + |10\\rangle + |01\\rangle + |11\\rangle)$."
   ]
  },
  {
   "cell_type": "markdown",
   "metadata": {},
   "source": [
    "We see that <code>measureCollapse()</code> collapes the state $|\\psi_0\\rangle$ into the state $|00\\rangle$ (or $|10\\rangle, |01\\rangle, |11\\rangle$) with a 25% probability.\n"
   ]
  },
  {
   "cell_type": "code",
   "execution_count": 5,
   "metadata": {},
   "outputs": [
    {
     "name": "stdout",
     "output_type": "stream",
     "text": [
      "[0.5 0.5 0.5 0.5]\n",
      "[0 0 0 1]\n"
     ]
    }
   ],
   "source": [
    "qb = QubitState([1, 1, 1, 1])\n",
    "print(qb.peek())\n",
    "qb.measureCollapse()\n",
    "print(qb.peek())"
   ]
  },
  {
   "cell_type": "markdown",
   "metadata": {},
   "source": [
    "Moreover, we can use <code>to_measure</code> parameter to specify the qubit on which we are doing partial measurement. For example, in this case, we are doing partial measurement on the first qubit. We see that the function returns the state $|0 0 1 1\\rangle$ (or $|1 1 0 0\\rangle$) 50% of the time."
   ]
  },
  {
   "cell_type": "code",
   "execution_count": 6,
   "metadata": {},
   "outputs": [
    {
     "name": "stdout",
     "output_type": "stream",
     "text": [
      "[0.5 0.5 0.5 0.5]\n",
      "[0.70710678 0.70710678 0.         0.        ]\n"
     ]
    }
   ],
   "source": [
    "qb = QubitState([1, 1, 1, 1])\n",
    "print(qb.peek())\n",
    "qb.measureCollapse(to_measure=1)\n",
    "print(qb.peek())"
   ]
  },
  {
   "cell_type": "markdown",
   "metadata": {},
   "source": [
    "We see that <code>measureStats()</code> returns an array indicating which state and with what probability our initial $|\\psi_0\\rangle$ would collapse to, without actually collapsing it."
   ]
  },
  {
   "cell_type": "code",
   "execution_count": 7,
   "metadata": {},
   "outputs": [
    {
     "name": "stdout",
     "output_type": "stream",
     "text": [
      "[([1 0 0 0], 0.25), ([0 1 0 0], 0.25), ([0 0 1 0], 0.25), ([0 0 0 1], 0.25)]\n",
      "[([0.7071 0.7071 0.     0.    ], 0.5), ([0.     0.     0.7071 0.7071], 0.5)]\n"
     ]
    }
   ],
   "source": [
    "qb = QubitState([1,1,1,1])\n",
    "print(qb.measureStats())\n",
    "print(qb.measureStats(to_measure=1))\n"
   ]
  },
  {
   "cell_type": "markdown",
   "metadata": {},
   "source": [
    "<h2>Unitary Gates</h2>"
   ]
  },
  {
   "cell_type": "markdown",
   "metadata": {},
   "source": [
    "What better fun can one have with qubits than applying unitary gates to them? Nothing! That's why package <code>DrMD</code> is here to provide you nerds with the greatest fun of your life with UnitaryGate class."
   ]
  },
  {
   "cell_type": "markdown",
   "metadata": {},
   "source": [
    "One can create new unitary gates using their matrix representation, again with a 4 x 4 matrix or with two 2 x 2 matrices, each denoting a gate on a qubit. Let's try to create a $X_1Z_2$ gate and see its action on the state $|00\\rangle$."
   ]
  },
  {
   "cell_type": "code",
   "execution_count": 8,
   "metadata": {},
   "outputs": [],
   "source": [
    "x1z2 = ug([[0, 1],[1, 0]], [[1, 0], [0, -1]])"
   ]
  },
  {
   "cell_type": "code",
   "execution_count": 23,
   "metadata": {},
   "outputs": [
    {
     "data": {
      "text/plain": [
       "[0 0 1 0]"
      ]
     },
     "execution_count": 23,
     "metadata": {},
     "output_type": "execute_result"
    }
   ],
   "source": [
    "qb00 = QubitState([1,0,0,0])\n",
    "qb = x1z2.apply(qb00)\n",
    "qb"
   ]
  },
  {
   "cell_type": "markdown",
   "metadata": {},
   "source": [
    "If one is too lazy, one can also use our predefined list of Pauli gates. For example, to create $X_1Z_2$ gate, we can do as follows."
   ]
  },
  {
   "cell_type": "code",
   "execution_count": 24,
   "metadata": {},
   "outputs": [
    {
     "name": "stdout",
     "output_type": "stream",
     "text": [
      "True\n"
     ]
    }
   ],
   "source": [
    "mat = ug(gl.X_mat, gl.Z_mat)\n",
    "print(x1z2.compare(mat))"
   ]
  },
  {
   "cell_type": "markdown",
   "metadata": {},
   "source": [
    "Apply a wrong gate and want to ctrl-z? Fret not! Use <code>dagger()</code> to apply the inverse gate."
   ]
  },
  {
   "cell_type": "code",
   "execution_count": 25,
   "metadata": {},
   "outputs": [
    {
     "data": {
      "text/plain": [
       "[1 0 0 0]"
      ]
     },
     "execution_count": 25,
     "metadata": {},
     "output_type": "execute_result"
    }
   ],
   "source": [
    "x1z2.dagger().apply(qb)"
   ]
  },
  {
   "cell_type": "markdown",
   "metadata": {},
   "source": [
    "<h2>Circuit</h2>"
   ]
  },
  {
   "cell_type": "markdown",
   "metadata": {},
   "source": [
    "Let's take a step further! A curious mind may ask: \"What happens if one has many gates?\" The answer is what we are looking at in this section - a circuit!"
   ]
  },
  {
   "cell_type": "code",
   "execution_count": 26,
   "metadata": {},
   "outputs": [],
   "source": [
    "c = circ([x1z2, gl.hadamard1])\n"
   ]
  },
  {
   "cell_type": "markdown",
   "metadata": {},
   "source": [
    "Let see what this circuit does to our old friend $|00\\rangle$."
   ]
  },
  {
   "cell_type": "code",
   "execution_count": 27,
   "metadata": {},
   "outputs": [
    {
     "data": {
      "text/plain": [
       "[ 0.7071  0.     -0.7071  0.    ]"
      ]
     },
     "execution_count": 27,
     "metadata": {},
     "output_type": "execute_result"
    }
   ],
   "source": [
    "c.apply(qb00)"
   ]
  },
  {
   "cell_type": "markdown",
   "metadata": {},
   "source": [
    "It returns $\\frac{1}{\\sqrt{2}}(|00\\rangle - |10\\rangle)$, as expected. There are many other things we can do to an existing circuit. We can <code>append</code> to add or <code>pop</code> to remove the last element, and many more. Let's try them out by preparing an entangled state. We can start from $|00\\rangle$ and edit our current circuit."
   ]
  },
  {
   "cell_type": "code",
   "execution_count": 38,
   "metadata": {},
   "outputs": [
    {
     "name": "stdout",
     "output_type": "stream",
     "text": [
      "6\n",
      "The gates applied are: \n",
      "[[ 0  0  1  0]\n",
      " [ 0  0  0 -1]\n",
      " [ 1  0  0  0]\n",
      " [ 0 -1  0  0]], \n",
      "[[0.+0.j 0.-1.j 0.+0.j 0.-0.j]\n",
      " [0.+1.j 0.+0.j 0.+0.j 0.+0.j]\n",
      " [0.+0.j 0.-0.j 0.+0.j 0.-1.j]\n",
      " [0.+0.j 0.+0.j 0.+1.j 0.+0.j]], \n",
      "[[ 0.70710678  0.          0.70710678  0.        ]\n",
      " [ 0.          0.70710678  0.          0.70710678]\n",
      " [ 0.70710678  0.         -0.70710678 -0.        ]\n",
      " [ 0.          0.70710678 -0.         -0.70710678]], \n",
      "[[1 0 0 0]\n",
      " [0 1 0 0]\n",
      " [0 0 0 1]\n",
      " [0 0 1 0]], \n",
      "[[ 0.70710678  0.          0.70710678  0.        ]\n",
      " [ 0.          0.70710678  0.          0.70710678]\n",
      " [ 0.70710678  0.         -0.70710678 -0.        ]\n",
      " [ 0.          0.70710678 -0.         -0.70710678]], \n",
      "[[0 1 0 0]\n",
      " [1 0 0 0]\n",
      " [0 0 0 1]\n",
      " [0 0 1 0]].\n",
      "\n"
     ]
    }
   ],
   "source": [
    "c = circ([x1z2, gl.hadamard1])\n",
    "c.insert(1,gl.y2)\n",
    "c.append(gl.cnot)\n",
    "c_extra = circ([gl.hadamard1, gl.x2, gl.hadamard2])\n",
    "c.merge(c_extra)\n",
    "c.pop()\n",
    "c.isEmpty()\n",
    "print(c.size())\n",
    "print(c)"
   ]
  },
  {
   "cell_type": "code",
   "execution_count": 85,
   "metadata": {},
   "outputs": [],
   "source": [
    "# # qb_final = \n",
    "# res = [c.apply(qb00).measureCollapse().peek() for i in range (100)]\n",
    "\n",
    "# #  bins = [np.array([1,0,0,0]), np.array([0,1,0,0]), np.array([0,0,1,0]), np.array([0,0,0,1])]\n",
    "# np.histogram(res)\n",
    "# res\n"
   ]
  }
 ],
 "metadata": {
  "kernelspec": {
   "display_name": "qp",
   "language": "python",
   "name": "python3"
  },
  "language_info": {
   "codemirror_mode": {
    "name": "ipython",
    "version": 3
   },
   "file_extension": ".py",
   "mimetype": "text/x-python",
   "name": "python",
   "nbconvert_exporter": "python",
   "pygments_lexer": "ipython3",
   "version": "3.10.15"
  }
 },
 "nbformat": 4,
 "nbformat_minor": 2
}
