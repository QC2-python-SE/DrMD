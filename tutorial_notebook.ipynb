{
 "cells": [
  {
   "cell_type": "markdown",
   "metadata": {},
   "source": [
    "<div class=\"header\">\n",
    "  <h1>Tutorial</h1>\n",
    "  <p>A step-by-step guidance to DrMD package.</p>\n",
    "</div>\n"
   ]
  },
  {
   "cell_type": "markdown",
   "metadata": {},
   "source": [
    "We first need to import relevant classes.\n",
    "\n",
    "The circuit in this backacge is a 2-qubit circuit. "
   ]
  },
  {
   "cell_type": "code",
   "execution_count": 1,
   "metadata": {},
   "outputs": [],
   "source": [
    "from qubit_state import QubitState\n"
   ]
  },
  {
   "cell_type": "markdown",
   "metadata": {},
   "source": [
    "<h3> Create Qubit States </h3>"
   ]
  },
  {
   "cell_type": "markdown",
   "metadata": {},
   "source": [
    "We can create a new qubit state using the matrix representation with <code>QubitState()</code>. Let the first qubit be in the $|0\\rangle$ state while the second qubit in the $|1\\rangle$ - this corresponds to the matrix $[0, 1, 0, 0]$. Otherwise, we can also create this qubit by inputing two single-qubit matrices $[1,0], [0,1]$."
   ]
  },
  {
   "cell_type": "code",
   "execution_count": null,
   "metadata": {},
   "outputs": [],
   "source": [
    "qb1 = QubitState([0,1,0,0])\n",
    "qb2 = QubitState([1,0], (0,1))"
   ]
  },
  {
   "cell_type": "markdown",
   "metadata": {},
   "source": [
    "Using the <code>peek()</code> function, we can check that these two states are the same."
   ]
  },
  {
   "cell_type": "code",
   "execution_count": 11,
   "metadata": {},
   "outputs": [
    {
     "name": "stdout",
     "output_type": "stream",
     "text": [
      "[0 1 0 0]\n",
      "[0 1 0 0]\n"
     ]
    }
   ],
   "source": [
    "print(qb1.peek())\n",
    "print(qb2.peek())"
   ]
  },
  {
   "cell_type": "markdown",
   "metadata": {},
   "source": [
    "<h3>Measure a Qubit State</h3>"
   ]
  },
  {
   "cell_type": "markdown",
   "metadata": {},
   "source": [
    " With a qubit in hand (?), the simplest thing one can do is to measure it. With <code>DrMD</code>, there are two ways of measuring a qubit.\n",
    " 1. Using <code>measureCollapse()</code> function which mimics the collapse of the state upon being measured. This returns an eigenstate.\n",
    " 2. Using <code>measureStats()</code> function which does not collapse the state. Instead, this function will return the probability with which the initial state collapses to a certain eigenstate."
   ]
  },
  {
   "cell_type": "markdown",
   "metadata": {},
   "source": [
    "For example, let initialise our qubits in the state $\\frac{1}{2}(|00\\rangle + |10\\rangle + |01\\rangle + |11\\rangle)$."
   ]
  },
  {
   "cell_type": "markdown",
   "metadata": {},
   "source": [
    "Using <code>measureCollapse()</code>, we see that the output \n",
    "\n",
    "where <code>to_measure</code> parameter is the qubit \n"
   ]
  },
  {
   "cell_type": "code",
   "execution_count": 41,
   "metadata": {},
   "outputs": [
    {
     "name": "stdout",
     "output_type": "stream",
     "text": [
      "[0.5 0.5 0.5 0.5]\n",
      "[0 1 0 0]\n"
     ]
    }
   ],
   "source": [
    "qb = QubitState([1, 1, 1, 1])\n",
    "print(qb.peek())\n",
    "qb.measureCollapse()\n",
    "print(qb.peek())"
   ]
  },
  {
   "cell_type": "code",
   "execution_count": 28,
   "metadata": {},
   "outputs": [
    {
     "name": "stdout",
     "output_type": "stream",
     "text": [
      "[0.70710678 0.         0.70710678 0.        ]\n",
      "[1. 0. 0. 0.]\n"
     ]
    }
   ],
   "source": [
    "qb = QubitState([1,1], [1,0])\n",
    "print(qb.peek())\n",
    "qb.measureCollapse(to_measure=1)\n",
    "print(qb.peek())"
   ]
  },
  {
   "cell_type": "code",
   "execution_count": 25,
   "metadata": {},
   "outputs": [
    {
     "name": "stdout",
     "output_type": "stream",
     "text": [
      "[0.70710678 0.         0.70710678 0.        ]\n",
      "[([1. 0. 0. 0.], 0.5), ([0. 0. 1. 0.], 0.5)]\n"
     ]
    }
   ],
   "source": [
    "qb = QubitState([1,1], [1,0])\n",
    "print(qb.peek())\n",
    "print(qb.measureStats(to_measure=1))"
   ]
  }
 ],
 "metadata": {
  "kernelspec": {
   "display_name": "qp",
   "language": "python",
   "name": "python3"
  },
  "language_info": {
   "codemirror_mode": {
    "name": "ipython",
    "version": 3
   },
   "file_extension": ".py",
   "mimetype": "text/x-python",
   "name": "python",
   "nbconvert_exporter": "python",
   "pygments_lexer": "ipython3",
   "version": "3.10.15"
  }
 },
 "nbformat": 4,
 "nbformat_minor": 2
}
